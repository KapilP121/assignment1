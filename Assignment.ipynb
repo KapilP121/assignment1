{
 "cells": [
  {
   "cell_type": "markdown",
   "id": "6aacf648-2128-47cb-b083-bc31fd10c242",
   "metadata": {},
   "source": [
    "Declare two variables, `x` and `y`, and assign them integer values.\n",
    "Swap the values of these variables without using any temporary\n",
    "variable."
   ]
  },
  {
   "cell_type": "code",
   "execution_count": null,
   "id": "6c3ff24f-6593-4936-a0ed-2223fbf59ad8",
   "metadata": {},
   "outputs": [],
   "source": [
    "X=10"
   ]
  },
  {
   "cell_type": "code",
   "execution_count": null,
   "id": "d52c5aab-d2f1-445f-aa25-987accf5ecd1",
   "metadata": {},
   "outputs": [],
   "source": [
    "Y=20"
   ]
  },
  {
   "cell_type": "code",
   "execution_count": null,
   "id": "0b7073af-8754-4f4d-8751-be0c6984a61b",
   "metadata": {},
   "outputs": [],
   "source": [
    "X,Y=Y,X"
   ]
  },
  {
   "cell_type": "code",
   "execution_count": null,
   "id": "ae01249c-ce1c-47a4-bb0f-9511f32339a7",
   "metadata": {},
   "outputs": [],
   "source": [
    "X"
   ]
  },
  {
   "cell_type": "code",
   "execution_count": null,
   "id": "8c555a31-7370-478a-94b6-e7139d02b6d4",
   "metadata": {},
   "outputs": [],
   "source": [
    "Y"
   ]
  },
  {
   "cell_type": "raw",
   "id": "e6a97ad3-4854-4e76-826d-e4923d607cd0",
   "metadata": {},
   "source": [
    "Create a program that calculates the area of a rectangle. Take the\n",
    "length and width as inputs from the user and store them in variables.\n",
    "Calculate and display the area.\n"
   ]
  },
  {
   "cell_type": "code",
   "execution_count": null,
   "id": "5b9ec6bf-613e-43ad-9cff-037b5b7b9f64",
   "metadata": {},
   "outputs": [],
   "source": [
    "l1=[\"length\"]"
   ]
  },
  {
   "cell_type": "code",
   "execution_count": null,
   "id": "e6a35b7b-e9ab-4125-9bf8-3bb8795f4039",
   "metadata": {},
   "outputs": [],
   "source": [
    "l2=[\"width\"]"
   ]
  },
  {
   "cell_type": "code",
   "execution_count": null,
   "id": "adb6670a-c522-48a0-ba0f-8bf9db0a8077",
   "metadata": {},
   "outputs": [],
   "source": [
    "l1=20"
   ]
  },
  {
   "cell_type": "code",
   "execution_count": null,
   "id": "bdea97dc-6d7d-40fb-b4ab-1aa2dbae10d4",
   "metadata": {},
   "outputs": [],
   "source": [
    "l2=20"
   ]
  },
  {
   "cell_type": "code",
   "execution_count": null,
   "id": "ebc6ca27-ddb3-4460-bf92-45e5b559c4a4",
   "metadata": {},
   "outputs": [],
   "source": [
    "A = [\"Area of reactangle \"]"
   ]
  },
  {
   "cell_type": "code",
   "execution_count": null,
   "id": "a55a855f-aaa6-4e2b-ae4f-d90f93cf19ae",
   "metadata": {},
   "outputs": [],
   "source": [
    "A= l1 *l2"
   ]
  },
  {
   "cell_type": "code",
   "execution_count": null,
   "id": "3a96a263-bd4f-4c34-bf59-47e8042c1847",
   "metadata": {},
   "outputs": [],
   "source": [
    "A"
   ]
  },
  {
   "cell_type": "markdown",
   "id": "243da972-673a-4e5e-9af6-0cd6b226a1ab",
   "metadata": {},
   "source": [
    "Write a Python program that converts temperature from Celsius to\n",
    "Fahrenheit. Take the temperature in Celsius as input, store it in a\n",
    "variable, convert it to Fahrenheit, and display the result."
   ]
  },
  {
   "cell_type": "code",
   "execution_count": null,
   "id": "606555b3-11b0-4ac6-95ea-4eba25f0ad91",
   "metadata": {},
   "outputs": [],
   "source": [
    "c=[\"Celsius\" ]"
   ]
  },
  {
   "cell_type": "code",
   "execution_count": null,
   "id": "927fa302-6d83-4697-bf6e-de1e30dbf9cc",
   "metadata": {},
   "outputs": [],
   "source": [
    "c1=[\"Fahrenheit\"]"
   ]
  },
  {
   "cell_type": "code",
   "execution_count": null,
   "id": "702b8c02-22da-4153-b17e-66080bd4e51a",
   "metadata": {},
   "outputs": [],
   "source": [
    "c1=(1.8 * c ) + 32"
   ]
  },
  {
   "cell_type": "markdown",
   "id": "c008ba69-4bb1-459b-9bf4-902710a7cbf6",
   "metadata": {},
   "source": [
    "Write a Python program that takes a string as input and prints the\n",
    "length of the string."
   ]
  },
  {
   "cell_type": "code",
   "execution_count": null,
   "id": "1d47d5be-3fb5-4e61-a038-9ad64bb76c75",
   "metadata": {},
   "outputs": [],
   "source": [
    "S1 =[\"PWSKILL\"]"
   ]
  },
  {
   "cell_type": "code",
   "execution_count": null,
   "id": "ab5cfcde-b102-490d-b829-7c201d921eee",
   "metadata": {},
   "outputs": [],
   "source": [
    "len(S1)"
   ]
  },
  {
   "cell_type": "markdown",
   "id": "6337d027-84a3-40c3-b364-c41b94be7e94",
   "metadata": {},
   "source": [
    "Given a string, reverse the order of characters using string slicing and\n",
    "print the reversed string."
   ]
  },
  {
   "cell_type": "code",
   "execution_count": null,
   "id": "6dab825b-f9d2-4286-b77d-46eceea3c75c",
   "metadata": {},
   "outputs": [],
   "source": [
    "k1 = \"KAPIL\""
   ]
  },
  {
   "cell_type": "code",
   "execution_count": null,
   "id": "a41dd77b-ddd8-4c8c-8b53-52b7ba74261c",
   "metadata": {},
   "outputs": [],
   "source": [
    "k1[: : -1 ]"
   ]
  },
  {
   "cell_type": "markdown",
   "id": "9482ec4b-4a8f-4e52-b9e6-a2e97d9b00c0",
   "metadata": {},
   "source": [
    "Create a program that takes a string as input and removes all the\n",
    "spaces from it. Print the modified string without spaces."
   ]
  },
  {
   "cell_type": "code",
   "execution_count": 3,
   "id": "8c6d66f5-8496-462f-8ea8-d727f6628636",
   "metadata": {},
   "outputs": [],
   "source": [
    "R1 = \"kapoil     \""
   ]
  },
  {
   "cell_type": "code",
   "execution_count": 4,
   "id": "dcb80acb-d175-46c6-83f0-87f9cc502361",
   "metadata": {},
   "outputs": [
    {
     "data": {
      "text/plain": [
       "'kapoil'"
      ]
     },
     "execution_count": 4,
     "metadata": {},
     "output_type": "execute_result"
    }
   ],
   "source": [
    "R1.rstrip()"
   ]
  },
  {
   "cell_type": "code",
   "execution_count": null,
   "id": "9ef421f6-9929-422b-a033-d2274e0378a8",
   "metadata": {},
   "outputs": [],
   "source": []
  }
 ],
 "metadata": {
  "kernelspec": {
   "display_name": "Python 3 (ipykernel)",
   "language": "python",
   "name": "python3"
  },
  "language_info": {
   "codemirror_mode": {
    "name": "ipython",
    "version": 3
   },
   "file_extension": ".py",
   "mimetype": "text/x-python",
   "name": "python",
   "nbconvert_exporter": "python",
   "pygments_lexer": "ipython3",
   "version": "3.10.8"
  }
 },
 "nbformat": 4,
 "nbformat_minor": 5
}
